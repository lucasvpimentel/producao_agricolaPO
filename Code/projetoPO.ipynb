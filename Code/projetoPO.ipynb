{
 "cells": [
  {
   "cell_type": "markdown",
   "source": [
    "# Estudo de Caso: Otimização de Produção Agrícola"
   ],
   "metadata": {
    "collapsed": false
   },
   "id": "de8ab4cbc47725eb"
  },
  {
   "cell_type": "markdown",
   "source": [
    "## Descrição do problema"
   ],
   "metadata": {
    "collapsed": false
   },
   "id": "966938145035f768"
  },
  {
   "cell_type": "markdown",
   "source": [
    "\n",
    "Uma fazenda possui diferentes culturas que podem ser plantadas em suas terras. O objetivo é maximizar o lucro total da fazenda, considerando as limitações de recursos disponíveis e as demandas de mercado.\n",
    "\n",
    "<hr>\n"
   ],
   "metadata": {
    "collapsed": false
   },
   "id": "3f85a0d2f8216c02"
  },
  {
   "cell_type": "markdown",
   "source": [
    "### Detalhes do Problema \n",
    "\n",
    "Existem cinco tipos de culturas que podem ser plantadas: A, B, C, D e E. Cada cultura requer diferentes quantidades de recursos (tempo, mão de obra, área) para ser cultivada e gera diferentes lucros por unidade produzida. A fazenda tem recursos limitados disponíveis para alocar para essas culturas."
   ],
   "metadata": {
    "collapsed": false
   },
   "id": "612437818cf151a5"
  },
  {
   "cell_type": "markdown",
   "source": [
    "#### <b>Objetivo:<b>\n",
    " Informar a quantidade produzida de cada cultura e o lucro final da fazenda"
   ],
   "metadata": {
    "collapsed": false
   },
   "id": "a17d8b83a2ca188"
  },
  {
   "cell_type": "markdown",
   "source": [
    "#### <b>Detalhes das Culturas<b>\n",
    "\n",
    "<b>Cultura A:<b> Requer 1 horas de trabalho, 1 acre de terra e 1 unidade de água para produzir uma unidade. Gera um lucro de 300 unidades monetárias por unidade.\n",
    "\n",
    "<b>Cultura B:<b> Requer 1 horas de trabalho, 1 acre de terra e 1 unidade de água para produzir uma unidade. Gera um lucro de 400 unidades monetárias por unidade.\n",
    "\n",
    "<b>Cultura C:<b> Requer 2 horas de trabalho, 1,5 acres de terra e 2 unidades de água para produzir uma unidade. Gera um lucro de 450 unidades monetárias por unidade.\n",
    "\n",
    "<b>Cultura D:<b> Requer 2 horas de trabalho, 2 acres de terra e 3 unidades de água para produzir uma unidade. Gera um lucro de 600 unidades monetárias por unidade.\n",
    "\n",
    "<b>Cultura E:<b> Requer 1 horas de trabalho, 2,5 acres de terra e 4 unidades de água para produzir uma unidade. Gera um lucro de 700 unidades monetárias por unidade."
   ],
   "metadata": {
    "collapsed": false
   },
   "id": "b3280f5a55f9dfae"
  },
  {
   "cell_type": "markdown",
   "source": [
    " #### Restrições: \n",
    " A fazenda tem um total de 100 horas de trabalho disponíveis por semana.\n",
    "\n",
    "A fazenda possui 200 acres de terra disponíveis.\n",
    "\n",
    "A fazenda tem acesso a 300 unidades de água por semana.\n",
    "\n",
    "Pelo menos 20% das horas devem ser alocadas para a cultura D.\n",
    "\n",
    "No máximo 30% das horas podem ser alocadas para a cultura E."
   ],
   "metadata": {
    "collapsed": false
   },
   "id": "a357026561e598c0"
  },
  {
   "cell_type": "markdown",
   "source": [
    "#### Limitantes (bounds)\n",
    "Além de maximizar o lucro total, é necessário garantir a demanda semanal mínima de mercado que é:\n",
    "\n",
    "Cultura A: 05 unidades\n",
    "\n",
    "Cultura B: 07 unidades\n",
    "\n",
    "Cultura C: 08 unidades\n",
    "\n",
    "Cultura D: 05 unidades\n",
    "\n",
    "Cultura E: 20 unidades"
   ],
   "metadata": {
    "collapsed": false
   },
   "id": "8cfe505c7f219bc9"
  },
  {
   "cell_type": "code",
   "outputs": [
    {
     "name": "stdout",
     "output_type": "stream",
     "text": [
      "Requirement already satisfied: pulp in c:\\users\\user\\anaconda3\\envs\\pesquisa_operacional\\lib\\site-packages (2.8.0)Note: you may need to restart the kernel to use updated packages.\n"
     ]
    }
   ],
   "source": [
    "%pip install pulp"
   ],
   "metadata": {
    "collapsed": true,
    "ExecuteTime": {
     "end_time": "2024-03-02T13:53:35.114067Z",
     "start_time": "2024-03-02T13:53:33.747708Z"
    }
   },
   "id": "initial_id",
   "execution_count": 13
  },
  {
   "cell_type": "code",
   "outputs": [],
   "source": [
    "import pulp"
   ],
   "metadata": {
    "collapsed": false,
    "ExecuteTime": {
     "end_time": "2024-03-02T13:53:35.582542Z",
     "start_time": "2024-03-02T13:53:35.570889Z"
    }
   },
   "id": "b8f3f00df1e7a5b0",
   "execution_count": 14
  },
  {
   "cell_type": "code",
   "outputs": [
    {
     "name": "stdout",
     "output_type": "stream",
     "text": [
      "Status: Optimal\n",
      "\n",
      "\n",
      "Lucro Total por Semana: R$ 41700.0\n",
      "\n",
      "\n",
      "Quantidade Em unidades de peso da Cultura A: 5.0\n",
      "Quantidade Em unidades de peso da Cultura B: 9.0\n",
      "Quantidade Em unidades de peso da Cultura C: 8.0\n",
      "Quantidade Em unidades de peso da Cultura D: 20.0\n",
      "Quantidade Em unidades de peso da Cultura E: 30.0\n"
     ]
    }
   ],
   "source": [
    "prob = pulp.LpProblem(\"Maximizar Lucro Produção Agrícola\", pulp.LpMaximize)\n",
    "\n",
    "#Variáveis de decisão\n",
    "A = pulp.LpVariable('Cultura A', lowBound=5,cat='Integer')\n",
    "B = pulp.LpVariable('Cultura B', lowBound=7,cat='Integer')\n",
    "C = pulp.LpVariable('Cultura C', lowBound=8,cat='Integer')\n",
    "D = pulp.LpVariable('Cultura D', lowBound=5,cat='Integer')\n",
    "E= pulp.LpVariable('Cultura E', lowBound=20,cat='Integer')\n",
    "\n",
    "#Função Objetivo\n",
    "prob += 300 * A + 400 * B + 450 * C + 600 * D + 700*E, \"Lucro Total\"\n",
    "\n",
    "#Restrições\n",
    "prob += A + B + 2*C + 2*D + E <= 100, \"Horas\"\n",
    "prob += A + B + 1.5*C + 2*D + 2.5*E <= 200, \"Acres\"\n",
    "prob += A + B + 2*C + 3*D+ 4*E <= 300, \"Água\"\n",
    "\n",
    "#Bounds relacionados\n",
    "prob += 2*D >= 0.2*(A + B + 2*C + 2*D + E), \"Horas em D\"\n",
    "prob += E <= 0.3*(A + B + 2*C + 2*D + E)\n",
    "\n",
    "prob.solve()\n",
    "\n",
    "print(f\"Status:\", pulp.LpStatus[prob.status])\n",
    "print(\"\\n\")\n",
    "print(f\"Lucro Total por Semana: R$ {pulp.value(prob.objective)}\")\n",
    "print(\"\\n\")\n",
    "print(f\"Quantidade Em unidades de peso da Cultura A: {pulp.value(A)}\")\n",
    "print(f\"Quantidade Em unidades de peso da Cultura B: {pulp.value(B)}\")\n",
    "print(f\"Quantidade Em unidades de peso da Cultura C: {pulp.value(C)}\")\n",
    "print(f\"Quantidade Em unidades de peso da Cultura D: {pulp.value(D)}\")\n",
    "print(f\"Quantidade Em unidades de peso da Cultura E: {pulp.value(E)}\")\n"
   ],
   "metadata": {
    "collapsed": false,
    "ExecuteTime": {
     "end_time": "2024-03-02T13:53:37.242408Z",
     "start_time": "2024-03-02T13:53:37.218014Z"
    }
   },
   "id": "4a74678d2c767b7c",
   "execution_count": 15
  }
 ],
 "metadata": {
  "kernelspec": {
   "display_name": "Python 3",
   "language": "python",
   "name": "python3"
  },
  "language_info": {
   "codemirror_mode": {
    "name": "ipython",
    "version": 2
   },
   "file_extension": ".py",
   "mimetype": "text/x-python",
   "name": "python",
   "nbconvert_exporter": "python",
   "pygments_lexer": "ipython2",
   "version": "2.7.6"
  }
 },
 "nbformat": 4,
 "nbformat_minor": 5
}
